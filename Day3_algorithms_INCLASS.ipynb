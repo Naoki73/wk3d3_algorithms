{
 "cells": [
  {
   "cell_type": "markdown",
   "metadata": {},
   "source": [
    "# Algorithms, Binary Search & Linked Lists"
   ]
  },
  {
   "cell_type": "markdown",
   "metadata": {},
   "source": [
    "## Tasks Today:\n",
    " \n",
    "1) <b>In-Place Algorithms</b> <br>\n",
    " &nbsp;&nbsp;&nbsp;&nbsp; a) Syntax <br>\n",
    " &nbsp;&nbsp;&nbsp;&nbsp; a) Out of Place Algorithm <br>\n",
    " &nbsp;&nbsp;&nbsp;&nbsp; b) In-Class Exercise #1 <br>\n",
    "2) <b>Two Pointers</b> <br>\n",
    "3) <b>Linked Lists</b> <br>\n",
    "4) <b>Merge Sort</b> <br>\n",
    " &nbsp;&nbsp;&nbsp;&nbsp; a) Video on Algorithms <br>\n",
    " &nbsp;&nbsp;&nbsp;&nbsp; b) How it Works <br>\n",
    "5) <b>Exercises</b> <br>\n",
    " &nbsp;&nbsp;&nbsp;&nbsp; a) Exercise #1 - Reverse a List in Place Using an In-Place Algorithm <br>\n",
    " &nbsp;&nbsp;&nbsp;&nbsp; b) Exercise #2 - Find Distinct Words <br>\n",
    " &nbsp;&nbsp;&nbsp;&nbsp; c) Exercise #3 - Write a program to implement a Linear Search Algorithm. <br>"
   ]
  },
  {
   "cell_type": "markdown",
   "metadata": {},
   "source": [
    "## In-Place Algorithms"
   ]
  },
  {
   "cell_type": "markdown",
   "metadata": {},
   "source": [
    "#### Syntax"
   ]
  },
  {
   "cell_type": "code",
   "execution_count": 3,
   "metadata": {},
   "outputs": [
    {
     "name": "stdout",
     "output_type": "stream",
     "text": [
      "before swap: [1, 5, 10, 15, 20, 25]\n",
      "after swap: [1, 5, 10, 25, 20, 15]\n",
      "output: None\n"
     ]
    }
   ],
   "source": [
    "#IT IS ACTUALLY ALgorithms, Binary Search, and Sorting, no Linked Lists until DAY 4\n",
    "\n",
    "# sorted()\n",
    "# .sort()\n",
    "\n",
    "def swap(nums, i1, i2):\n",
    "    nums[i1], nums[i2] = nums[i2], nums[i1]\n",
    "#     nims[i1] = nums[i2]\n",
    "#     nums[i2] = temp\n",
    "    \n",
    "list1 = [1,5,10,15,20,25]\n",
    "print('before swap:', list1)\n",
    "output = swap(list1, 3, 5)\n",
    "print('after swap:', list1)\n",
    "print('output:', output)\n",
    "\n",
    "# swap([1,5,10,15,20,25], 3 5)"
   ]
  },
  {
   "cell_type": "markdown",
   "metadata": {},
   "source": [
    "#### Out of Place Algorithm"
   ]
  },
  {
   "cell_type": "code",
   "execution_count": 4,
   "metadata": {},
   "outputs": [
    {
     "name": "stdout",
     "output_type": "stream",
     "text": [
      "before swap: [1, 5, 10, 25, 20, 15]\n",
      "after swap: [1, 5, 10, 25, 20, 15]\n",
      "output: None\n"
     ]
    }
   ],
   "source": [
    "def swap(nums, i1, i2):\n",
    "    copy = nums[:]\n",
    "    copy[i1], copy[i2] = copy[i2], copy[i1]\n",
    "    \n",
    "\n",
    "list1 == [1,5,10,15,20,25]\n",
    "print('before swap:', list1)\n",
    "output = swap(list1, 3, 5)\n",
    "print('after swap:', list1)\n",
    "print('output:', output)"
   ]
  },
  {
   "cell_type": "markdown",
   "metadata": {},
   "source": [
    "#### In-Class Exercise #1 <br>\n",
    "<p>Write a function that takes in four arguments (list, index1, index2, index3), and swaps those three positions in the list passed in.</p>"
   ]
  },
  {
   "cell_type": "code",
   "execution_count": 5,
   "metadata": {},
   "outputs": [
    {
     "name": "stdout",
     "output_type": "stream",
     "text": [
      "[3, 4, 10, 8, 4, 2, 6]\n"
     ]
    }
   ],
   "source": [
    "l_1 = [10, 4, 3, 8, 4, 2, 6]\n",
    "\n",
    "def swap(listt, i1, i2, i3):\n",
    "    listt[i1], listt[i2], listt[i3] = listt[i3], listt[i2], listt[i1]\n",
    "    \n",
    "swap(l_1, 0, 1, 2)\n",
    "\n",
    "print(l_1)\n",
    "    "
   ]
  },
  {
   "cell_type": "markdown",
   "metadata": {},
   "source": [
    "## Two Pointers"
   ]
  },
  {
   "cell_type": "markdown",
   "metadata": {},
   "source": [
    "#### Syntax"
   ]
  },
  {
   "cell_type": "code",
   "execution_count": 7,
   "metadata": {},
   "outputs": [
    {
     "name": "stdout",
     "output_type": "stream",
     "text": [
      "[9, 8, 7, 6, 5, 4, 3, 2, 1]\n"
     ]
    }
   ],
   "source": [
    "def twoPointers(nums):\n",
    "    left = 0\n",
    "    right = len(nums)-1\n",
    "    while left <= right:\n",
    "        nums[left], nums[right] = nums[right], nums[left]\n",
    "        left += 1\n",
    "        right-= 1\n",
    "    return None\n",
    "\n",
    "list2 = [1,2,3,4,5,6,7,8,9,10]\n",
    "twoPointers(list2)\n",
    "print(list2)"
   ]
  },
  {
   "cell_type": "markdown",
   "metadata": {},
   "source": [
    "#### Video of Algorithms <br>\n",
    "<p>Watch the video about algorithms.</p>\n",
    "\n",
    "https://www.youtube.com/watch?v=Q9HjeFD62Uk\n",
    "\n",
    "https://www.youtube.com/watch?v=kPRA0W1kECg\n",
    "\n",
    "https://www.youtube.com/watch?v=ZZuD6iUe3Pc"
   ]
  },
  {
   "cell_type": "markdown",
   "metadata": {},
   "source": [
    "# Sorting Algorithms"
   ]
  },
  {
   "cell_type": "markdown",
   "metadata": {},
   "source": [
    "#### Bubble Sort\n",
    "\n",
    "Worst Case: O(n^2) Time - O(1) Space"
   ]
  },
  {
   "cell_type": "code",
   "execution_count": 20,
   "metadata": {},
   "outputs": [
    {
     "name": "stdout",
     "output_type": "stream",
     "text": [
      "3\n",
      "['aubrey', 'brandt', 'shoha', 'Shoha']\n"
     ]
    }
   ],
   "source": [
    "def swap(nums, i1, i2):\n",
    "    nums[i1], nums[i2] = nums[i2], nums[i1]\n",
    "    \n",
    "def bubbleSort(nums):\n",
    "    isSorted = False\n",
    "    count = 0\n",
    "    while not isSorted:\n",
    "        isSorted = True\n",
    "        for i in range(len(nums)-1):\n",
    "            if isinstance(nums[i], int):\n",
    "            #NUMBER VERSION\n",
    "                if nums[i]>nums[i+1]:\n",
    "                    swap(nums, i, i+1)\n",
    "                    isSorted = False\n",
    "            elif isinstance(nums[i], str):\n",
    "                # STRING VERSION\n",
    "                if nums[i].lower()>nums[i+1].lower():\n",
    "                    swap(nums, i, i+1)\n",
    "                    isSorted = False\n",
    "                \n",
    "        count += 1\n",
    "    print(count)\n",
    "            \n",
    "            \n",
    "            \n",
    "            \n",
    "            \n",
    "nums = [99,66,22,33,11,77,88,44]\n",
    "nums2 = [1,2,3,4,5,6,7,8,9,10]\n",
    "names = ['shoha', 'brandt', 'aubrey', 'Shoha']\n",
    "\n",
    "# bubbleSort(nums)\n",
    "# print(nums)\n",
    "\n",
    "# bubbleSort(nums2)\n",
    "# print(nums2)\n",
    "\n",
    "bubbleSort(names)\n",
    "print(names)"
   ]
  },
  {
   "cell_type": "markdown",
   "metadata": {},
   "source": [
    "##### Insertion Sort\n",
    "\n",
    "Worst Case: O(n^2) time - O(1)space"
   ]
  },
  {
   "cell_type": "code",
   "execution_count": null,
   "metadata": {},
   "outputs": [],
   "source": [
    "def insertionSort():\n",
    "    for i in range(1, len(nums)):\n",
    "        j = i\n",
    "        while j > 0 and nums[j] < nums[j-1]:\n",
    "            swap(nums, j, j-1)\n",
    "            j-=1\n",
    "            \n",
    "            \n",
    "nums = [99,66,22,33,11,77,88,44]\n",
    "nums2 = [1,2,3,4,5,6,7,8,9,10]\n",
    "names = ['shoha', 'brandt', 'aubrey', 'Shoha']\n",
    "\n",
    "insertionSort(nums)\n",
    "insertionSort(nums2)\n",
    "insertionSort(names)\n",
    "print(nums)\n",
    "print(nums2)\n",
    "print(names)"
   ]
  },
  {
   "cell_type": "markdown",
   "metadata": {},
   "source": [
    "## Merge Sort"
   ]
  },
  {
   "cell_type": "markdown",
   "metadata": {},
   "source": [
    "#### How it Works"
   ]
  },
  {
   "cell_type": "code",
   "execution_count": 21,
   "metadata": {},
   "outputs": [],
   "source": [
    "# step1: split in half (until you cant anymore)\n",
    "# step2: from left to right, start merging\n",
    "# step3: while merging, place each item into the correct position within the merged group\n",
    "# step 4: repeat\n",
    "\n",
    "def mergeSort(nums):\n",
    "    if len(nums)> 1:\n",
    "        mid = len(nums)//2\n",
    "        lefthalf = nums[:mid]\n",
    "        righthalf = nums[mid:]\n",
    "        \n",
    "        # recursively call mergeSort to perform splits if needed\n",
    "        mergeSort(lefthalf)\n",
    "        mergeSort(righthalf)\n",
    "        \n",
    "        # create index pointers to keep track of position\n",
    "        i, j, k = 0, 0, 0\n",
    "        #step2:\n",
    "        #compare left and right halves\n",
    "        while i < len(lefthalf) and j < len(righthalf):\n",
    "            if lefthalf[i] < righthalf[j]:\n",
    "                nums[k] = lefthalf[i]\n",
    "                i+=1\n",
    "            else:\n",
    "                nums[k] = righthalf[j]\n",
    "                j+=1\n",
    "            k+=1\n",
    "        # step 3: when one side is done, fill in the rest into its correct position\n",
    "        while i <len(lefthalf):\n",
    "            nums[k] = lefthalf[i]\n",
    "            i+=1\n",
    "            k+=1\n",
    "        while j < len(righthalf):\n",
    "            \n",
    "            \n",
    "    else:\n",
    "        return nums"
   ]
  },
  {
   "cell_type": "markdown",
   "metadata": {},
   "source": [
    "# Binary Search\n",
    "\n",
    "The Binary Search algorithm works by finding the number in the middle of a given array and comparing it to the target. Given that the array is sorted\n",
    "\n",
    "* The worst case run time for this algorithm is `O(log(n))`"
   ]
  },
  {
   "cell_type": "code",
   "execution_count": 23,
   "metadata": {},
   "outputs": [
    {
     "data": {
      "text/plain": [
       "'What are you looking for is not in this collection.'"
      ]
     },
     "execution_count": 23,
     "metadata": {},
     "output_type": "execute_result"
    }
   ],
   "source": [
    "nums = [1,22,44,55,66,77,88,89,90,91,92,93,100,101,103,104,200]\n",
    "def binarySearch(nums, target):\n",
    "    left = 0\n",
    "    right = len(nums)-1\n",
    "    while left<=right:\n",
    "        mid = (left+right)//2\n",
    "        potentialMatch = nums[mid]\n",
    "        if target == potentialMatch:\n",
    "            return f'I found your match at index {mid}'\n",
    "        elif target < potentialMatch:\n",
    "            right = mid - 1\n",
    "        else:\n",
    "            left = mid + 1\n",
    "    return f'What are you looking for is not in this collection.'\n",
    "\n",
    "binarySearch(nums, 60)"
   ]
  },
  {
   "cell_type": "markdown",
   "metadata": {},
   "source": [
    "# Exercises"
   ]
  },
  {
   "cell_type": "markdown",
   "metadata": {},
   "source": [
    "### Exercise #1 <br>\n",
    "<p>Reverse the list below in-place using an in-place algorithm.<br>For extra credit: Reverse the strings at the same time.</p>"
   ]
  },
  {
   "cell_type": "code",
   "execution_count": 1,
   "metadata": {},
   "outputs": [
    {
     "data": {
      "text/plain": [
       "['.', 'ecnetnes', 'a', 'si', 'siht']"
      ]
     },
     "execution_count": 1,
     "metadata": {},
     "output_type": "execute_result"
    }
   ],
   "source": [
    "words = ['this' , 'is', 'a', 'sentence', '.']\n",
    "\n",
    "\n",
    "def reverse_in_place(words):\n",
    "    # Creating pointers for the list below:\n",
    "    left = 0\n",
    "    right = len(words) - 1\n",
    "    left2 = 0\n",
    "    \n",
    "    while left <= right:\n",
    "        words[left] = words[left][::-1]\n",
    "        words[right] = words[right][::-1]\n",
    "        \n",
    "        words[left], words[right] = words[right],words[left]\n",
    "        left += 1\n",
    "        right -= 1\n",
    "    \n",
    "    return words\n",
    "\n",
    "reverse_in_place(words)"
   ]
  },
  {
   "cell_type": "markdown",
   "metadata": {},
   "source": [
    "### Exercise #2 <br>\n",
    "<p>Create a function that counts how many distinct words are in the string below, then outputs a dictionary with the words as the key and the value as the amount of times that word appears in the string.<br>Should output:<br>{'a': 5,<br>\n",
    " 'abstract': 1,<br>\n",
    " 'an': 3,<br>\n",
    " 'array': 2, ... etc...</p>"
   ]
  },
  {
   "cell_type": "code",
   "execution_count": 44,
   "metadata": {},
   "outputs": [
    {
     "name": "stdout",
     "output_type": "stream",
     "text": [
      "37\n"
     ]
    },
    {
     "data": {
      "text/plain": [
       "{'In': 1,\n",
       " 'computing,': 1,\n",
       " 'a': 4,\n",
       " 'hash': 4,\n",
       " 'table': 2,\n",
       " 'map': 2,\n",
       " 'is': 1,\n",
       " 'data': 2,\n",
       " 'structure': 2,\n",
       " 'which': 2,\n",
       " 'implements': 1,\n",
       " 'an': 3,\n",
       " 'associative': 1,\n",
       " 'array': 2,\n",
       " 'abstract': 1,\n",
       " 'type,': 1,\n",
       " 'that': 1,\n",
       " 'can': 2,\n",
       " 'keys': 1,\n",
       " 'to': 2,\n",
       " 'values.': 1,\n",
       " 'A': 1,\n",
       " 'uses': 1,\n",
       " 'function': 1,\n",
       " 'compute': 1,\n",
       " 'index': 1,\n",
       " 'into': 1,\n",
       " 'of': 1,\n",
       " 'buckets': 1,\n",
       " 'or': 1,\n",
       " 'slots': 1,\n",
       " 'from': 1,\n",
       " 'the': 1,\n",
       " 'desired': 1,\n",
       " 'value': 1,\n",
       " 'be': 1,\n",
       " 'found': 1}"
      ]
     },
     "execution_count": 44,
     "metadata": {},
     "output_type": "execute_result"
    }
   ],
   "source": [
    "a_text = 'In computing, a hash table hash map is a data structure which implements an associative array abstract data type, a structure that can map keys to values. A hash table uses a hash function to compute an index into an array of buckets or slots from which the desired value can be found'\n",
    "\n",
    "eee = 'A A A b b b C C C C C'\n",
    "\n",
    "def distinct_words(a_text):\n",
    "    \n",
    "    d = {}\n",
    "    \n",
    "    allwords = a_text.split()\n",
    "    \n",
    "    unique = set(allwords)\n",
    "    \n",
    "    for words in allwords:\n",
    "        if words not in d:\n",
    "            d[words] = 1\n",
    "        else:\n",
    "            d[words] += 1\n",
    "    \n",
    "    print(len(unique))\n",
    "    \n",
    "    return d\n",
    "    \n",
    "\n",
    "distinct_words(a_text)\n",
    "\n"
   ]
  },
  {
   "cell_type": "markdown",
   "metadata": {},
   "source": [
    "## Exercise #3\n",
    "\n",
    "Write a program to implement a Linear Search Algorithm. Also in a comment, write the Time Complexity of the following algorithm.\n",
    "\n",
    "#### Hint: Linear Searching will require searching a list for a given number. "
   ]
  },
  {
   "cell_type": "code",
   "execution_count": 54,
   "metadata": {},
   "outputs": [
    {
     "name": "stdout",
     "output_type": "stream",
     "text": [
      "5\n"
     ]
    }
   ],
   "source": [
    "def linear_search(lst, num):\n",
    "    for i in range(len(lst)):\n",
    "        if lst[i] == num:\n",
    "            return i\n",
    "        elif num not in lst:\n",
    "            return (\"Invalid, not in the list\")\n",
    "    return -1\n",
    "\n",
    "# Time complexity is O(n)\n",
    "\n",
    "nums = [0,1,2,3,4,5]\n",
    "\n",
    "print(linear_search(nums,5))"
   ]
  }
 ],
 "metadata": {
  "kernelspec": {
   "display_name": "Python 3",
   "language": "python",
   "name": "python3"
  },
  "language_info": {
   "codemirror_mode": {
    "name": "ipython",
    "version": 3
   },
   "file_extension": ".py",
   "mimetype": "text/x-python",
   "name": "python",
   "nbconvert_exporter": "python",
   "pygments_lexer": "ipython3",
   "version": "3.11.0"
  },
  "vscode": {
   "interpreter": {
    "hash": "650a376d678f7d3745bb45824d5db5d68f4538917c97a475bb4562209d04be3d"
   }
  }
 },
 "nbformat": 4,
 "nbformat_minor": 2
}
